{
  "cells": [
    {
      "cell_type": "markdown",
      "metadata": {
        "id": "f1OltTI1diPQ"
      },
      "source": [
        "## Import Libraries"
      ]
    },
    {
      "cell_type": "code",
      "execution_count": 1,
      "metadata": {
        "id": "-vhIKraFdiPU"
      },
      "outputs": [],
      "source": [
        "import numpy as np\n",
        "import pandas as pd\n",
        "import glob\n",
        "import os\n",
        "import seaborn as sns\n",
        "import matplotlib.pyplot as plt\n",
        "import csv\n",
        "plt.style.use('ggplot')\n",
        "\n",
        "from sklearn.preprocessing import StandardScaler\n",
        "# tensorflow imports\n",
        "from tensorflow import keras\n",
        "from keras import layers, models\n",
        "from keras.callbacks import EarlyStopping, ModelCheckpoint\n",
        "\n",
        "from sklearn.model_selection import train_test_split\n",
        "from sklearn.metrics import mean_squared_error"
      ]
    },
    {
      "cell_type": "markdown",
      "metadata": {
        "id": "xx7KAf-bdiPX"
      },
      "source": [
        "## Load and explore the data set"
      ]
    },
    {
      "cell_type": "code",
      "execution_count": 2,
      "metadata": {
        "colab": {
          "base_uri": "https://localhost:8080/",
          "height": 399
        },
        "id": "nsCGhNZcdiPX",
        "outputId": "8c70262c-917e-48a8-c1fe-73796ed9df41"
      },
      "outputs": [
        {
          "data": {
            "application/vnd.google.colaboratory.intrinsic+json": {
              "type": "dataframe",
              "variable_name": "d1"
            },
            "text/html": [
              "\n",
              "  <div id=\"df-a492a81f-65b2-49c9-9b02-ac3a64b752f7\" class=\"colab-df-container\">\n",
              "    <div>\n",
              "<style scoped>\n",
              "    .dataframe tbody tr th:only-of-type {\n",
              "        vertical-align: middle;\n",
              "    }\n",
              "\n",
              "    .dataframe tbody tr th {\n",
              "        vertical-align: top;\n",
              "    }\n",
              "\n",
              "    .dataframe thead th {\n",
              "        text-align: right;\n",
              "    }\n",
              "</style>\n",
              "<table border=\"1\" class=\"dataframe\">\n",
              "  <thead>\n",
              "    <tr style=\"text-align: right;\">\n",
              "      <th></th>\n",
              "      <th>datetime</th>\n",
              "      <th>temp</th>\n",
              "      <th>dew</th>\n",
              "      <th>humidity</th>\n",
              "      <th>precip</th>\n",
              "      <th>precipprob</th>\n",
              "      <th>preciptype</th>\n",
              "      <th>snow</th>\n",
              "      <th>snowdepth</th>\n",
              "      <th>windspeed</th>\n",
              "      <th>winddir</th>\n",
              "      <th>sealevelpressure</th>\n",
              "      <th>cloudcover</th>\n",
              "      <th>solarradiation</th>\n",
              "      <th>solarenergy</th>\n",
              "      <th>uvindex</th>\n",
              "      <th>Year</th>\n",
              "      <th>Month</th>\n",
              "      <th>Day</th>\n",
              "      <th>hour</th>\n",
              "    </tr>\n",
              "  </thead>\n",
              "  <tbody>\n",
              "    <tr>\n",
              "      <th>0</th>\n",
              "      <td>2010-01-01 00:00:00</td>\n",
              "      <td>1.9</td>\n",
              "      <td>-0.5</td>\n",
              "      <td>84.25</td>\n",
              "      <td>0.417</td>\n",
              "      <td>100.0</td>\n",
              "      <td>rain,snow</td>\n",
              "      <td>0.0</td>\n",
              "      <td>0.0</td>\n",
              "      <td>19.4</td>\n",
              "      <td>11.0</td>\n",
              "      <td>999.9</td>\n",
              "      <td>62.2</td>\n",
              "      <td>0.0</td>\n",
              "      <td>0.0</td>\n",
              "      <td>0.0</td>\n",
              "      <td>2010</td>\n",
              "      <td>1</td>\n",
              "      <td>1</td>\n",
              "      <td>0</td>\n",
              "    </tr>\n",
              "    <tr>\n",
              "      <th>1</th>\n",
              "      <td>2010-01-01 01:00:00</td>\n",
              "      <td>1.9</td>\n",
              "      <td>-0.5</td>\n",
              "      <td>83.90</td>\n",
              "      <td>0.000</td>\n",
              "      <td>0.0</td>\n",
              "      <td>rain,snow</td>\n",
              "      <td>0.0</td>\n",
              "      <td>0.0</td>\n",
              "      <td>21.8</td>\n",
              "      <td>19.0</td>\n",
              "      <td>999.8</td>\n",
              "      <td>22.4</td>\n",
              "      <td>0.0</td>\n",
              "      <td>0.0</td>\n",
              "      <td>0.0</td>\n",
              "      <td>2010</td>\n",
              "      <td>1</td>\n",
              "      <td>1</td>\n",
              "      <td>1</td>\n",
              "    </tr>\n",
              "    <tr>\n",
              "      <th>2</th>\n",
              "      <td>2010-01-01 02:00:00</td>\n",
              "      <td>1.4</td>\n",
              "      <td>-0.7</td>\n",
              "      <td>85.76</td>\n",
              "      <td>0.000</td>\n",
              "      <td>0.0</td>\n",
              "      <td>rain,snow</td>\n",
              "      <td>0.0</td>\n",
              "      <td>0.0</td>\n",
              "      <td>17.7</td>\n",
              "      <td>10.0</td>\n",
              "      <td>1000.0</td>\n",
              "      <td>38.0</td>\n",
              "      <td>0.0</td>\n",
              "      <td>0.0</td>\n",
              "      <td>0.0</td>\n",
              "      <td>2010</td>\n",
              "      <td>1</td>\n",
              "      <td>1</td>\n",
              "      <td>2</td>\n",
              "    </tr>\n",
              "    <tr>\n",
              "      <th>3</th>\n",
              "      <td>2010-01-01 03:00:00</td>\n",
              "      <td>1.4</td>\n",
              "      <td>-0.7</td>\n",
              "      <td>85.69</td>\n",
              "      <td>0.000</td>\n",
              "      <td>0.0</td>\n",
              "      <td>rain,snow</td>\n",
              "      <td>0.0</td>\n",
              "      <td>0.0</td>\n",
              "      <td>18.0</td>\n",
              "      <td>11.0</td>\n",
              "      <td>1000.2</td>\n",
              "      <td>66.7</td>\n",
              "      <td>0.0</td>\n",
              "      <td>0.0</td>\n",
              "      <td>0.0</td>\n",
              "      <td>2010</td>\n",
              "      <td>1</td>\n",
              "      <td>1</td>\n",
              "      <td>3</td>\n",
              "    </tr>\n",
              "    <tr>\n",
              "      <th>4</th>\n",
              "      <td>2010-01-01 04:00:00</td>\n",
              "      <td>1.3</td>\n",
              "      <td>-0.8</td>\n",
              "      <td>85.72</td>\n",
              "      <td>0.000</td>\n",
              "      <td>0.0</td>\n",
              "      <td>rain,snow</td>\n",
              "      <td>0.0</td>\n",
              "      <td>0.0</td>\n",
              "      <td>17.4</td>\n",
              "      <td>10.0</td>\n",
              "      <td>1000.5</td>\n",
              "      <td>62.8</td>\n",
              "      <td>0.0</td>\n",
              "      <td>0.0</td>\n",
              "      <td>0.0</td>\n",
              "      <td>2010</td>\n",
              "      <td>1</td>\n",
              "      <td>1</td>\n",
              "      <td>4</td>\n",
              "    </tr>\n",
              "  </tbody>\n",
              "</table>\n",
              "</div>\n",
              "    <div class=\"colab-df-buttons\">\n",
              "\n",
              "  <div class=\"colab-df-container\">\n",
              "    <button class=\"colab-df-convert\" onclick=\"convertToInteractive('df-a492a81f-65b2-49c9-9b02-ac3a64b752f7')\"\n",
              "            title=\"Convert this dataframe to an interactive table.\"\n",
              "            style=\"display:none;\">\n",
              "\n",
              "  <svg xmlns=\"http://www.w3.org/2000/svg\" height=\"24px\" viewBox=\"0 -960 960 960\">\n",
              "    <path d=\"M120-120v-720h720v720H120Zm60-500h600v-160H180v160Zm220 220h160v-160H400v160Zm0 220h160v-160H400v160ZM180-400h160v-160H180v160Zm440 0h160v-160H620v160ZM180-180h160v-160H180v160Zm440 0h160v-160H620v160Z\"/>\n",
              "  </svg>\n",
              "    </button>\n",
              "\n",
              "  <style>\n",
              "    .colab-df-container {\n",
              "      display:flex;\n",
              "      gap: 12px;\n",
              "    }\n",
              "\n",
              "    .colab-df-convert {\n",
              "      background-color: #E8F0FE;\n",
              "      border: none;\n",
              "      border-radius: 50%;\n",
              "      cursor: pointer;\n",
              "      display: none;\n",
              "      fill: #1967D2;\n",
              "      height: 32px;\n",
              "      padding: 0 0 0 0;\n",
              "      width: 32px;\n",
              "    }\n",
              "\n",
              "    .colab-df-convert:hover {\n",
              "      background-color: #E2EBFA;\n",
              "      box-shadow: 0px 1px 2px rgba(60, 64, 67, 0.3), 0px 1px 3px 1px rgba(60, 64, 67, 0.15);\n",
              "      fill: #174EA6;\n",
              "    }\n",
              "\n",
              "    .colab-df-buttons div {\n",
              "      margin-bottom: 4px;\n",
              "    }\n",
              "\n",
              "    [theme=dark] .colab-df-convert {\n",
              "      background-color: #3B4455;\n",
              "      fill: #D2E3FC;\n",
              "    }\n",
              "\n",
              "    [theme=dark] .colab-df-convert:hover {\n",
              "      background-color: #434B5C;\n",
              "      box-shadow: 0px 1px 3px 1px rgba(0, 0, 0, 0.15);\n",
              "      filter: drop-shadow(0px 1px 2px rgba(0, 0, 0, 0.3));\n",
              "      fill: #FFFFFF;\n",
              "    }\n",
              "  </style>\n",
              "\n",
              "    <script>\n",
              "      const buttonEl =\n",
              "        document.querySelector('#df-a492a81f-65b2-49c9-9b02-ac3a64b752f7 button.colab-df-convert');\n",
              "      buttonEl.style.display =\n",
              "        google.colab.kernel.accessAllowed ? 'block' : 'none';\n",
              "\n",
              "      async function convertToInteractive(key) {\n",
              "        const element = document.querySelector('#df-a492a81f-65b2-49c9-9b02-ac3a64b752f7');\n",
              "        const dataTable =\n",
              "          await google.colab.kernel.invokeFunction('convertToInteractive',\n",
              "                                                    [key], {});\n",
              "        if (!dataTable) return;\n",
              "\n",
              "        const docLinkHtml = 'Like what you see? Visit the ' +\n",
              "          '<a target=\"_blank\" href=https://colab.research.google.com/notebooks/data_table.ipynb>data table notebook</a>'\n",
              "          + ' to learn more about interactive tables.';\n",
              "        element.innerHTML = '';\n",
              "        dataTable['output_type'] = 'display_data';\n",
              "        await google.colab.output.renderOutput(dataTable, element);\n",
              "        const docLink = document.createElement('div');\n",
              "        docLink.innerHTML = docLinkHtml;\n",
              "        element.appendChild(docLink);\n",
              "      }\n",
              "    </script>\n",
              "  </div>\n",
              "\n",
              "\n",
              "<div id=\"df-9b58554d-17e8-4250-a7c2-de39fa16937c\">\n",
              "  <button class=\"colab-df-quickchart\" onclick=\"quickchart('df-9b58554d-17e8-4250-a7c2-de39fa16937c')\"\n",
              "            title=\"Suggest charts\"\n",
              "            style=\"display:none;\">\n",
              "\n",
              "<svg xmlns=\"http://www.w3.org/2000/svg\" height=\"24px\"viewBox=\"0 0 24 24\"\n",
              "     width=\"24px\">\n",
              "    <g>\n",
              "        <path d=\"M19 3H5c-1.1 0-2 .9-2 2v14c0 1.1.9 2 2 2h14c1.1 0 2-.9 2-2V5c0-1.1-.9-2-2-2zM9 17H7v-7h2v7zm4 0h-2V7h2v10zm4 0h-2v-4h2v4z\"/>\n",
              "    </g>\n",
              "</svg>\n",
              "  </button>\n",
              "\n",
              "<style>\n",
              "  .colab-df-quickchart {\n",
              "      --bg-color: #E8F0FE;\n",
              "      --fill-color: #1967D2;\n",
              "      --hover-bg-color: #E2EBFA;\n",
              "      --hover-fill-color: #174EA6;\n",
              "      --disabled-fill-color: #AAA;\n",
              "      --disabled-bg-color: #DDD;\n",
              "  }\n",
              "\n",
              "  [theme=dark] .colab-df-quickchart {\n",
              "      --bg-color: #3B4455;\n",
              "      --fill-color: #D2E3FC;\n",
              "      --hover-bg-color: #434B5C;\n",
              "      --hover-fill-color: #FFFFFF;\n",
              "      --disabled-bg-color: #3B4455;\n",
              "      --disabled-fill-color: #666;\n",
              "  }\n",
              "\n",
              "  .colab-df-quickchart {\n",
              "    background-color: var(--bg-color);\n",
              "    border: none;\n",
              "    border-radius: 50%;\n",
              "    cursor: pointer;\n",
              "    display: none;\n",
              "    fill: var(--fill-color);\n",
              "    height: 32px;\n",
              "    padding: 0;\n",
              "    width: 32px;\n",
              "  }\n",
              "\n",
              "  .colab-df-quickchart:hover {\n",
              "    background-color: var(--hover-bg-color);\n",
              "    box-shadow: 0 1px 2px rgba(60, 64, 67, 0.3), 0 1px 3px 1px rgba(60, 64, 67, 0.15);\n",
              "    fill: var(--button-hover-fill-color);\n",
              "  }\n",
              "\n",
              "  .colab-df-quickchart-complete:disabled,\n",
              "  .colab-df-quickchart-complete:disabled:hover {\n",
              "    background-color: var(--disabled-bg-color);\n",
              "    fill: var(--disabled-fill-color);\n",
              "    box-shadow: none;\n",
              "  }\n",
              "\n",
              "  .colab-df-spinner {\n",
              "    border: 2px solid var(--fill-color);\n",
              "    border-color: transparent;\n",
              "    border-bottom-color: var(--fill-color);\n",
              "    animation:\n",
              "      spin 1s steps(1) infinite;\n",
              "  }\n",
              "\n",
              "  @keyframes spin {\n",
              "    0% {\n",
              "      border-color: transparent;\n",
              "      border-bottom-color: var(--fill-color);\n",
              "      border-left-color: var(--fill-color);\n",
              "    }\n",
              "    20% {\n",
              "      border-color: transparent;\n",
              "      border-left-color: var(--fill-color);\n",
              "      border-top-color: var(--fill-color);\n",
              "    }\n",
              "    30% {\n",
              "      border-color: transparent;\n",
              "      border-left-color: var(--fill-color);\n",
              "      border-top-color: var(--fill-color);\n",
              "      border-right-color: var(--fill-color);\n",
              "    }\n",
              "    40% {\n",
              "      border-color: transparent;\n",
              "      border-right-color: var(--fill-color);\n",
              "      border-top-color: var(--fill-color);\n",
              "    }\n",
              "    60% {\n",
              "      border-color: transparent;\n",
              "      border-right-color: var(--fill-color);\n",
              "    }\n",
              "    80% {\n",
              "      border-color: transparent;\n",
              "      border-right-color: var(--fill-color);\n",
              "      border-bottom-color: var(--fill-color);\n",
              "    }\n",
              "    90% {\n",
              "      border-color: transparent;\n",
              "      border-bottom-color: var(--fill-color);\n",
              "    }\n",
              "  }\n",
              "</style>\n",
              "\n",
              "  <script>\n",
              "    async function quickchart(key) {\n",
              "      const quickchartButtonEl =\n",
              "        document.querySelector('#' + key + ' button');\n",
              "      quickchartButtonEl.disabled = true;  // To prevent multiple clicks.\n",
              "      quickchartButtonEl.classList.add('colab-df-spinner');\n",
              "      try {\n",
              "        const charts = await google.colab.kernel.invokeFunction(\n",
              "            'suggestCharts', [key], {});\n",
              "      } catch (error) {\n",
              "        console.error('Error during call to suggestCharts:', error);\n",
              "      }\n",
              "      quickchartButtonEl.classList.remove('colab-df-spinner');\n",
              "      quickchartButtonEl.classList.add('colab-df-quickchart-complete');\n",
              "    }\n",
              "    (() => {\n",
              "      let quickchartButtonEl =\n",
              "        document.querySelector('#df-9b58554d-17e8-4250-a7c2-de39fa16937c button');\n",
              "      quickchartButtonEl.style.display =\n",
              "        google.colab.kernel.accessAllowed ? 'block' : 'none';\n",
              "    })();\n",
              "  </script>\n",
              "</div>\n",
              "    </div>\n",
              "  </div>\n"
            ],
            "text/plain": [
              "              datetime  temp  dew  humidity  precip  precipprob preciptype  \\\n",
              "0  2010-01-01 00:00:00   1.9 -0.5     84.25   0.417       100.0  rain,snow   \n",
              "1  2010-01-01 01:00:00   1.9 -0.5     83.90   0.000         0.0  rain,snow   \n",
              "2  2010-01-01 02:00:00   1.4 -0.7     85.76   0.000         0.0  rain,snow   \n",
              "3  2010-01-01 03:00:00   1.4 -0.7     85.69   0.000         0.0  rain,snow   \n",
              "4  2010-01-01 04:00:00   1.3 -0.8     85.72   0.000         0.0  rain,snow   \n",
              "\n",
              "   snow  snowdepth  windspeed  winddir  sealevelpressure  cloudcover  \\\n",
              "0   0.0        0.0       19.4     11.0             999.9        62.2   \n",
              "1   0.0        0.0       21.8     19.0             999.8        22.4   \n",
              "2   0.0        0.0       17.7     10.0            1000.0        38.0   \n",
              "3   0.0        0.0       18.0     11.0            1000.2        66.7   \n",
              "4   0.0        0.0       17.4     10.0            1000.5        62.8   \n",
              "\n",
              "   solarradiation  solarenergy  uvindex  Year  Month  Day  hour  \n",
              "0             0.0          0.0      0.0  2010      1    1     0  \n",
              "1             0.0          0.0      0.0  2010      1    1     1  \n",
              "2             0.0          0.0      0.0  2010      1    1     2  \n",
              "3             0.0          0.0      0.0  2010      1    1     3  \n",
              "4             0.0          0.0      0.0  2010      1    1     4  "
            ]
          },
          "execution_count": 2,
          "metadata": {},
          "output_type": "execute_result"
        }
      ],
      "source": [
        "#  read the CSV file\n",
        "d1 = pd.read_csv('sample_data/brighton_clean_data.csv')\n",
        "d1.head()"
      ]
    },
    {
      "cell_type": "markdown",
      "metadata": {
        "id": "15OxlGeDqSOK"
      },
      "source": [
        "## Extract Feature columns"
      ]
    },
    {
      "cell_type": "code",
      "execution_count": 3,
      "metadata": {
        "colab": {
          "base_uri": "https://localhost:8080/"
        },
        "id": "hcWf94pEdiPj",
        "outputId": "ae52f8ed-e9a6-4fcc-9016-ebe1c6d76951"
      },
      "outputs": [
        {
          "data": {
            "text/plain": [
              "((122844, 10), (122844, 10))"
            ]
          },
          "execution_count": 3,
          "metadata": {},
          "output_type": "execute_result"
        }
      ],
      "source": [
        "d1_order = d1[['datetime','temp', 'dew','humidity', 'winddir','sealevelpressure', 'cloudcover', 'solarradiation', 'uvindex','solarenergy', 'windspeed']]\n",
        "\n",
        "# set datetime as a index column\n",
        "d1_order.set_index('datetime', inplace=True)\n",
        "d1_order.values.shape, d1_order.shape\n"
      ]
    },
    {
      "cell_type": "markdown",
      "metadata": {
        "id": "aIGwDYEcrKnO"
      },
      "source": [
        "## Data splitting"
      ]
    },
    {
      "cell_type": "code",
      "execution_count": 4,
      "metadata": {
        "colab": {
          "base_uri": "https://localhost:8080/"
        },
        "id": "fNFaPtIudiPj",
        "outputId": "3207a62e-e2dd-49c1-edc6-0b3fc818f504"
      },
      "outputs": [
        {
          "name": "stdout",
          "output_type": "stream",
          "text": [
            "Samples for training: 61422; validation: 36853; test: 24569\n"
          ]
        }
      ],
      "source": [
        "n_tr, n_val = int(0.5*len(d1_order)), int(0.3*len(d1_order))\n",
        "n_te = len(d1_order) - n_tr - n_val\n",
        "print('Samples for training: %d; validation: %d; test: %d' % (n_tr, n_val, n_te))"
      ]
    },
    {
      "cell_type": "markdown",
      "metadata": {
        "id": "sWVMUwg5rZBW"
      },
      "source": [
        "### Data Normalization"
      ]
    },
    {
      "cell_type": "code",
      "execution_count": 5,
      "metadata": {
        "colab": {
          "base_uri": "https://localhost:8080/"
        },
        "id": "bxqNoWc0diPk",
        "outputId": "b9e2de95-cbe9-45f2-faef-143470ad11aa"
      },
      "outputs": [
        {
          "name": "stdout",
          "output_type": "stream",
          "text": [
            "(122844, 10)\n"
          ]
        }
      ],
      "source": [
        "# Get the data from the dataframe\n",
        "data = d1_order.values\n",
        "data_base = d1_order.values\n",
        "data_base = data[:n_tr, :]\n",
        "\n",
        "print(data.shape)\n",
        "assert data.shape[0] == len(d1_order)\n",
        "assert data.shape[1] == len(d1_order.columns)\n",
        "\n",
        "# We need to normalise our time series. Calculate mean and std from TRAINING DATA ONLY.\n",
        "# We'll use it on the validation and test sets.\n",
        "scaler = StandardScaler()\n",
        "# find parameters using training set only\n",
        "scaler.fit(data[:n_tr, :])\n",
        "# transform the whole data set\n",
        "data = scaler.transform(data)\n",
        "\n",
        "# 'solarenergy' and 'windspeed' not transformed; still in the original scale\n",
        "y = d1_order[['solarenergy', 'windspeed']].values\n",
        "\n",
        "# index of the column that contains the avg_temp in the original array\n",
        "y_idx = list(d1_order.columns).index('solarenergy')"
      ]
    },
    {
      "cell_type": "code",
      "execution_count": 6,
      "metadata": {
        "id": "fEstKBROdiPk"
      },
      "outputs": [],
      "source": [
        "# We'll use a Dataset from keras to pass our data\n",
        "sampling_rate = 1  # we keep all data points\n",
        "sequence_length = 24  # use data from last 2 weeks (14 days) to predict tomorrow's temperature\n",
        "delay = sampling_rate * sequence_length  # the target is the day after the end of the sequence\n",
        "batch_size = 24  # for training"
      ]
    },
    {
      "cell_type": "markdown",
      "metadata": {
        "id": "lyJT4JD3NeVF"
      },
      "source": [
        "## Create train, validation and testing datasets"
      ]
    },
    {
      "cell_type": "code",
      "execution_count": 7,
      "metadata": {
        "colab": {
          "base_uri": "https://localhost:8080/"
        },
        "id": "Z8lOS2PHdiPk",
        "outputId": "4a902012-ca60-4403-c5f0-13a5a1caaaa5"
      },
      "outputs": [
        {
          "name": "stdout",
          "output_type": "stream",
          "text": [
            "X shape: (24, 24, 10)\n",
            "target shape: (24, 2)\n",
            "2559 1535 1022\n"
          ]
        }
      ],
      "source": [
        "train_dataset = keras.utils.timeseries_dataset_from_array(\n",
        "    data=data[:-delay],\n",
        "    targets=y[delay:],\n",
        "    sampling_rate=sampling_rate, sequence_length=sequence_length,\n",
        "    batch_size=batch_size,\n",
        "    start_index=0, end_index=n_tr  # first 50% for training\n",
        "    )\n",
        "\n",
        "val_dataset = keras.utils.timeseries_dataset_from_array(\n",
        "    data=data[:-delay],\n",
        "    targets=y[delay:],\n",
        "    sampling_rate=sampling_rate, sequence_length=sequence_length,\n",
        "    batch_size=batch_size,\n",
        "    start_index=n_tr, end_index=n_tr+n_val  # 50%-80% for validation\n",
        "    )\n",
        "\n",
        "test_dataset = keras.utils.timeseries_dataset_from_array(\n",
        "    data=data[:-delay],\n",
        "    targets=y[delay:],\n",
        "    sampling_rate=sampling_rate, sequence_length=sequence_length,\n",
        "    batch_size=batch_size,\n",
        "    start_index=n_tr+n_val  # last 20% for test\n",
        "    )\n",
        "\n",
        "for X, target in test_dataset:\n",
        "    print(\"X shape:\", X.shape)  # (batch_size, sequence_length, n_features)\n",
        "    print(\"target shape:\", target.shape)\n",
        "    break  # so we only print once\n",
        "\n",
        "print(len(train_dataset),len(val_dataset),len(test_dataset))"
      ]
    },
    {
      "cell_type": "code",
      "execution_count": 8,
      "metadata": {
        "id": "-pNG0YSQdiPk"
      },
      "outputs": [],
      "source": [
        "# Create a function to Ploting training and validation MAE\n",
        "def plot_hist_regression(hist):\n",
        "  n_ = len(hist.history['mae'])\n",
        "  plt.plot(range(1, n_+1), np.asarray(hist.history['mae']), 'bo', label='MAE on training set')\n",
        "  plt.plot(range(1, n_+1), np.asarray(hist.history['val_mae']), 'b', label='MAE on validation set')\n",
        "  plt.legend()\n",
        "  plt.xlabel(\"Epoch\")\n",
        "  plt.ylabel(\"MAE (degrees)\")\n",
        "  plt.ylim([0, None])\n",
        "  # plt.axhline(y=y)\n",
        "  plt.show()"
      ]
    },
    {
      "cell_type": "code",
      "execution_count": null,
      "metadata": {
        "id": "evef3f3PD4Qj"
      },
      "outputs": [],
      "source": [
        "# test=data_base[:-delay]\n",
        "# t0 = [test[:,-1],test[:,-2]]\n",
        "# t0 = np.array(t0).T\n",
        "# values = pd.DataFrame(t0)\n",
        "\n",
        "# dataframe = pd.concat([values.shift(24), values], axis=1)\n",
        "# dataframe.columns = ['target_0','target_1', 'ori_0','ori_1']\n",
        "\n",
        "# dataframe=dataframe.fillna(0)\n",
        "\n",
        "# print(dataframe[:2].shape)\n",
        "\n",
        "# test_score_1 = mean_squared_error(dataframe[['ori_0','ori_1']], dataframe[['target_0','target_1']])\n",
        "# # # test_score = test_score/40\n",
        "# # print('Test MSE: %.3f' % test_score_0)\n",
        "# print('Test MSE: %.3f' % test_score_1)"
      ]
    },
    {
      "cell_type": "code",
      "execution_count": null,
      "metadata": {
        "id": "j4PRT-JCsfoD"
      },
      "outputs": [],
      "source": [
        "# def naive_method(dataset, scaler):\n",
        "#     error = 0\n",
        "#     samples = 0\n",
        "#     count = 0\n",
        "#     for X, target in dataset:\n",
        "#       pred = scaler.inverse_transform(X[0])  # predict last available temperature for each sequence in the batch and un-standardise\n",
        "#       pred_ = [pred[:,-1],pred[:,-2]]\n",
        "#       pred_ = np.array(pred_).reshape(24,2)\n",
        "#       target = target.numpy()\n",
        "\n",
        "#       try:\n",
        "#         error += np.sum(np.abs(pred_ - target))\n",
        "#         samples += X.shape[0]\n",
        "#       except:\n",
        "#         print('pass--')\n",
        "#         pass\n",
        "#       # samples += X.shape[0]  # batch_size\n",
        "#       count += 1\n",
        "#     return error / samples /batch_size # average\n",
        "\n",
        "\n",
        "# print('MAE on train set = %.2f (degrees Celsius)' % naive_method(train_dataset, scaler))\n",
        "# print('MAE on validation set = %.2f (degrees Celsius)' % naive_method(val_dataset, scaler))\n",
        "# # Save MAE on validation for later\n",
        "# baseline = naive_method(val_dataset, scaler)"
      ]
    },
    {
      "cell_type": "markdown",
      "metadata": {
        "id": "xpLmMrL5NC3i"
      },
      "source": [
        "## Create a Model"
      ]
    },
    {
      "cell_type": "code",
      "execution_count": null,
      "metadata": {
        "colab": {
          "base_uri": "https://localhost:8080/"
        },
        "id": "VEeUQPLojkLd",
        "outputId": "4a43c3f0-23d5-4528-cfae-e25e6abd08d6"
      },
      "outputs": [
        {
          "name": "stderr",
          "output_type": "stream",
          "text": [
            "WARNING:tensorflow:Layer lstm will not use cuDNN kernels since it doesn't meet the criteria. It will use a generic GPU kernel as fallback when running on GPU.\n"
          ]
        },
        {
          "name": "stdout",
          "output_type": "stream",
          "text": [
            "Model: \"sequential\"\n",
            "_________________________________________________________________\n",
            " Layer (type)                Output Shape              Param #   \n",
            "=================================================================\n",
            " lstm (LSTM)                 (None, 24, 100)           44400     \n",
            "                                                                 \n",
            " bidirectional (Bidirection  (None, 200)               160800    \n",
            " al)                                                             \n",
            "                                                                 \n",
            " dropout (Dropout)           (None, 200)               0         \n",
            "                                                                 \n",
            " dense (Dense)               (None, 128)               25728     \n",
            "                                                                 \n",
            " dropout_1 (Dropout)         (None, 128)               0         \n",
            "                                                                 \n",
            " dense_1 (Dense)             (None, 64)                8256      \n",
            "                                                                 \n",
            " dense_2 (Dense)             (None, 32)                2080      \n",
            "                                                                 \n",
            " dense_3 (Dense)             (None, 2)                 66        \n",
            "                                                                 \n",
            "=================================================================\n",
            "Total params: 241330 (942.70 KB)\n",
            "Trainable params: 241330 (942.70 KB)\n",
            "Non-trainable params: 0 (0.00 Byte)\n",
            "_________________________________________________________________\n"
          ]
        }
      ],
      "source": [
        "model_lstm3 = models.Sequential()\n",
        "model_lstm3.add(layers.LSTM(100, input_shape=(sequence_length, len(d1_order.columns)), recurrent_dropout=0.25, return_sequences=True))  # NEW!\n",
        "model_lstm3.add(layers.Bidirectional(layers.LSTM(100, input_shape=(sequence_length, len(d1_order.columns)))))  # NEW!!\n",
        "model_lstm3.add(layers.Dropout(0.3))\n",
        "model_lstm3.add(layers.Dense(128))\n",
        "model_lstm3.add(layers.Dropout(0.3))\n",
        "model_lstm3.add(layers.Dense(64))\n",
        "model_lstm3.add(layers.Dense(32))\n",
        "model_lstm3.add(layers.Dense(2))\n",
        "\n",
        "# Model summary\n",
        "model_lstm3.summary()\n"
      ]
    },
    {
      "cell_type": "markdown",
      "metadata": {
        "id": "ew3u06cCNaoG"
      },
      "source": [
        "## Model Fit and Training"
      ]
    },
    {
      "cell_type": "code",
      "execution_count": null,
      "metadata": {
        "colab": {
          "base_uri": "https://localhost:8080/"
        },
        "id": "sdKEtzo1UTnq",
        "outputId": "582c7685-fac4-4777-82bc-a0e548aee5eb"
      },
      "outputs": [
        {
          "name": "stdout",
          "output_type": "stream",
          "text": [
            "Epoch 1/20\n",
            "2559/2559 [==============================] - 216s 81ms/step - loss: 24.1698 - mae: 2.9281 - val_loss: 9.5510 - val_mae: 1.8439\n",
            "Epoch 2/20\n",
            "2559/2559 [==============================] - 203s 79ms/step - loss: 8.9636 - mae: 1.8284 - val_loss: 6.4174 - val_mae: 1.4841\n",
            "Epoch 3/20\n",
            "2559/2559 [==============================] - 202s 79ms/step - loss: 7.4953 - mae: 1.6493 - val_loss: 6.8003 - val_mae: 1.5255\n",
            "Epoch 4/20\n",
            "2559/2559 [==============================] - 205s 80ms/step - loss: 7.2032 - mae: 1.5954 - val_loss: 6.1733 - val_mae: 1.4406\n",
            "Epoch 5/20\n",
            "2559/2559 [==============================] - 202s 79ms/step - loss: 6.9322 - mae: 1.5557 - val_loss: 6.3678 - val_mae: 1.4615\n",
            "Epoch 6/20\n",
            "2559/2559 [==============================] - 205s 80ms/step - loss: 6.8588 - mae: 1.5414 - val_loss: 5.8565 - val_mae: 1.3942\n",
            "Epoch 7/20\n",
            "2559/2559 [==============================] - 202s 79ms/step - loss: 6.7829 - mae: 1.5324 - val_loss: 5.9340 - val_mae: 1.4034\n",
            "Epoch 8/20\n",
            "2559/2559 [==============================] - 201s 78ms/step - loss: 6.6627 - mae: 1.5136 - val_loss: 6.0460 - val_mae: 1.4164\n",
            "Epoch 9/20\n",
            "2559/2559 [==============================] - 208s 81ms/step - loss: 6.5530 - mae: 1.5001 - val_loss: 5.9159 - val_mae: 1.4049\n",
            "Epoch 10/20\n",
            "2559/2559 [==============================] - 200s 78ms/step - loss: 6.4813 - mae: 1.4878 - val_loss: 5.7372 - val_mae: 1.3800\n",
            "Epoch 11/20\n",
            "2559/2559 [==============================] - 204s 80ms/step - loss: 6.4089 - mae: 1.4765 - val_loss: 5.6669 - val_mae: 1.3699\n",
            "Epoch 12/20\n",
            "2559/2559 [==============================] - 205s 80ms/step - loss: 6.2918 - mae: 1.4600 - val_loss: 5.7150 - val_mae: 1.3638\n",
            "Epoch 13/20\n",
            "2559/2559 [==============================] - 209s 82ms/step - loss: 6.2689 - mae: 1.4552 - val_loss: 5.6373 - val_mae: 1.3641\n",
            "Epoch 14/20\n",
            "2559/2559 [==============================] - 214s 84ms/step - loss: 6.2206 - mae: 1.4486 - val_loss: 5.6193 - val_mae: 1.3575\n",
            "Epoch 15/20\n",
            "2559/2559 [==============================] - 209s 82ms/step - loss: 6.1904 - mae: 1.4429 - val_loss: 5.6134 - val_mae: 1.3577\n",
            "Epoch 16/20\n",
            "2559/2559 [==============================] - 204s 80ms/step - loss: 6.1133 - mae: 1.4310 - val_loss: 5.6323 - val_mae: 1.3624\n",
            "Epoch 17/20\n",
            "2559/2559 [==============================] - 207s 81ms/step - loss: 6.0426 - mae: 1.4232 - val_loss: 5.5683 - val_mae: 1.3563\n",
            "Epoch 18/20\n",
            "2559/2559 [==============================] - 202s 79ms/step - loss: 6.0355 - mae: 1.4190 - val_loss: 5.6159 - val_mae: 1.3548\n",
            "Epoch 19/20\n",
            "2559/2559 [==============================] - 197s 77ms/step - loss: 5.9792 - mae: 1.4125 - val_loss: 5.5781 - val_mae: 1.3449\n",
            "Epoch 20/20\n",
            "2559/2559 [==============================] - 198s 77ms/step - loss: 5.9487 - mae: 1.4070 - val_loss: 5.5726 - val_mae: 1.3489\n"
          ]
        },
        {
          "name": "stderr",
          "output_type": "stream",
          "text": [
            "/usr/local/lib/python3.10/dist-packages/keras/src/engine/training.py:3103: UserWarning: You are saving your model as an HDF5 file via `model.save()`. This file format is considered legacy. We recommend using instead the native Keras format, e.g. `model.save('my_model.keras')`.\n",
            "  saving_api.save_model(\n"
          ]
        }
      ],
      "source": [
        "# model_lstm3.compile(optimizer='rmsprop', loss='mse', metrics=['mae'])\n",
        "# model_lstm3.compile(optimizer=keras.optimizers.RMSprop(learning_rate=0.001, momentum=0.8), loss='mse', metrics=['mae'])\n",
        "\n",
        "# using Adam optimizer with 0.0001 lerning rate and Mean squared Error as a loss function\n",
        "model_lstm3.compile(optimizer=keras.optimizers.Adam(learning_rate=0.0001), loss='mse', metrics=['mae'])\n",
        "\n",
        "history_lstm3 = model_lstm3.fit(train_dataset, epochs=20,  # 20 number of epochs\n",
        "                            validation_data=val_dataset )\n",
        "\n",
        "\n",
        "# save trained model in to g-drive\n",
        "model_lstm3.save('sample_data_trained_b24_4.h5')\n"
      ]
    },
    {
      "cell_type": "markdown",
      "metadata": {
        "id": "yXNK7F5SONeG"
      },
      "source": [
        "### Plot training and Validation MAE"
      ]
    },
    {
      "cell_type": "code",
      "execution_count": null,
      "metadata": {
        "colab": {
          "base_uri": "https://localhost:8080/",
          "height": 458
        },
        "id": "cLJr83G8y-N1",
        "outputId": "89622404-d972-4e7f-caad-b0780584f45e"
      },
      "outputs": [
        {
          "data": {
            "image/png": "[encoded data removed]",
            "text/plain": [
              "<Figure size 640x480 with 1 Axes>"
            ]
          },
          "metadata": {},
          "output_type": "display_data"
        }
      ],
      "source": [
        "plot_hist_regression(history_lstm3)"
      ]
    },
    {
      "cell_type": "code",
      "execution_count": 9,
      "metadata": {
        "colab": {
          "base_uri": "https://localhost:8080/"
        },
        "id": "ZY1haGNlUUVB",
        "outputId": "392163d5-e283-49c0-f5ba-7fc30eab74f5"
      },
      "outputs": [
        {
          "name": "stdout",
          "output_type": "stream",
          "text": [
            "Model: \"sequential\"\n",
            "_________________________________________________________________\n",
            " Layer (type)                Output Shape              Param #   \n",
            "=================================================================\n",
            " lstm (LSTM)                 (None, 24, 100)           44400     \n",
            "                                                                 \n",
            " bidirectional (Bidirection  (None, 200)               160800    \n",
            " al)                                                             \n",
            "                                                                 \n",
            " dropout (Dropout)           (None, 200)               0         \n",
            "                                                                 \n",
            " dense (Dense)               (None, 128)               25728     \n",
            "                                                                 \n",
            " dropout_1 (Dropout)         (None, 128)               0         \n",
            "                                                                 \n",
            " dense_1 (Dense)             (None, 64)                8256      \n",
            "                                                                 \n",
            " dense_2 (Dense)             (None, 32)                2080      \n",
            "                                                                 \n",
            " dense_3 (Dense)             (None, 2)                 66        \n",
            "                                                                 \n",
            "=================================================================\n",
            "Total params: 241330 (942.70 KB)\n",
            "Trainable params: 241330 (942.70 KB)\n",
            "Non-trainable params: 0 (0.00 Byte)\n",
            "_________________________________________________________________\n"
          ]
        }
      ],
      "source": [
        "# Load Model and check the model its saved correctly\n",
        "model_lstm3 = keras.models.load_model('sample_data_trained_b24_4.h5')\n",
        "model_lstm3.summary()"
      ]
    },
    {
      "cell_type": "markdown",
      "metadata": {
        "id": "iu2StUbWPK_H"
      },
      "source": [
        "## Model Prediction\n",
        "\n",
        "The following graphs display the predicted values of solar energy and wind speed by our trained model for the upcoming 24 hours. Our model's predictions closely align with the actual values, demonstrating its accuracy and reliability in forecasting renewable energy variables."
      ]
    },
    {
      "cell_type": "code",
      "execution_count": 10,
      "metadata": {
        "id": "tMjT-IWcu3Cg"
      },
      "outputs": [],
      "source": [
        "def show_plot(plot_data, delta, title):\n",
        "    labels = [\"History\", \"True Future\", \"Model Prediction\"]\n",
        "    marker = [\".-\", \"rx\", \"go\"]\n",
        "\n",
        "    time_steps = list(range(-(plot_data[0].shape[0]), 0))\n",
        "    # print('PLOT DATA',plot_data,'time_steps',time_steps,'----',plot_data[0].shape[0])\n",
        "\n",
        "    if delta:\n",
        "        future = delta\n",
        "    else:\n",
        "        future = 0\n",
        "\n",
        "    plt.title(title)\n",
        "\n",
        "    if title.split(' ')[0] == 'solarenergy':\n",
        "      plot_fig = 0\n",
        "    else:\n",
        "      plot_fig = 1\n",
        "\n",
        "\n",
        "    print('True Value',plot_data[1][plot_fig], 'Prediction',plot_data[2][plot_fig])\n",
        "\n",
        "    for i, val in enumerate(plot_data):\n",
        "\n",
        "      if i:\n",
        "        # print('-if -i------',i)\n",
        "        plt.plot(future, plot_data[i][plot_fig], marker[i], markersize=10, label=labels[i])\n",
        "      else:\n",
        "        # print('-esle -i------',i)\n",
        "        plt.plot(time_steps, plot_data[i].flatten(), marker[i], label=labels[i])\n",
        "\n",
        "\n",
        "    plt.legend()\n",
        "    # plt.set_ylabel([time_steps[0], (future + 5)])\n",
        "    plt.xlim([time_steps[0], (future + 5)* 2])\n",
        "    plt.xlabel(\"Time-Step\")\n",
        "    plt.show()\n",
        "    return"
      ]
    },
    {
      "cell_type": "code",
      "execution_count": 11,
      "metadata": {
        "colab": {
          "base_uri": "https://localhost:8080/",
          "height": 1000
        },
        "id": "THjMZjjtTQ4r",
        "outputId": "716c5463-1f35-4608-b79b-f485bab93aa9"
      },
      "outputs": [
        {
          "name": "stdout",
          "output_type": "stream",
          "text": [
            "1/1 [==============================] - 1s 1s/step\n",
            "True Value 0.0 Prediction 0.010482304\n"
          ]
        },
        {
          "data": {
            "image/png": "[encoded data removed]",
            "text/plain": [
              "<Figure size 640x480 with 1 Axes>"
            ]
          },
          "metadata": {},
          "output_type": "display_data"
        },
        {
          "name": "stdout",
          "output_type": "stream",
          "text": [
            "1/1 [==============================] - 0s 34ms/step\n",
            "True Value 12.1 Prediction 11.898648\n"
          ]
        },
        {
          "data": {
            "image/png": "[encoded data removed]",
            "text/plain": [
              "<Figure size 640x480 with 1 Axes>"
            ]
          },
          "metadata": {},
          "output_type": "display_data"
        }
      ],
      "source": [
        "for x, y in test_dataset.take(1):\n",
        "    unnorm = scaler.inverse_transform(x[0].numpy())\n",
        "\n",
        "    unnorm_solar = unnorm[:, 8]\n",
        "    show_plot([unnorm_solar, y[0].numpy(), model_lstm3.predict(x)[0]], 24, \"solarenergy Prediction\",)\n",
        "\n",
        "    # show_plot([x[0][:, 9].numpy(), y[0].numpy(), model_lstm3.predict(x)[0]], 24, \"Single Step Prediction\",\n",
        "\n",
        "    unnorm_wind = unnorm[:, 9]\n",
        "    show_plot([unnorm_wind, y[0].numpy(), model_lstm3.predict(x)[0]], 24, \"windspeed Prediction\",)\n",
        "\n",
        "\n",
        "    # break\n"
      ]
    },
    {
      "cell_type": "markdown",
      "metadata": {
        "id": "k42D3PUVQIN6"
      },
      "source": [
        "##Assumptions\n",
        "\n",
        "1.   **Wind Energy Calculations**\n",
        "\n",
        "     Power (W) = 1/2 x ρ x A x v3\n",
        "     Power = Watts\n",
        "      \n",
        "*   ρ (rho, a Greek letter) = density of the air in kg/m3  -The standard(link is external) density of air is 1.225 kg/m3\n",
        "*   A = cross-sectional area of the wind in m2 - The turbine has a 24 m diameter, which means the radius is 12 m. Thus, the swept area of the turbine is: (pi)r2 = 3.14159(122) = 452.4 m2\n",
        "*   v = velocity of the wind in m/s\n",
        "\n",
        "\n",
        "2.   **Solar Energy Calculation**\n",
        "\n",
        "3.   **Number of houses in brighton-b5 area.**\n",
        "houses - 3,067\n",
        "4.   **average electricity usage per month in UK households is about 350kWh**\n",
        "5.   **Daily usage 350/31 = 11.29 Kwh**"
      ]
    },
    {
      "cell_type": "code",
      "execution_count": 12,
      "metadata": {
        "id": "CP8MQNy2pmmp"
      },
      "outputs": [],
      "source": [
        "\n",
        "# convert windspeed  kilometers per hour to miles per hour\n",
        "def kph_to_ms(kph):\n",
        "    return (0.277778 * kph)\n",
        "\n",
        "# Convert solar energy megaW to kilowatt\n",
        "def mw_to_kw(mw,panels=4):\n",
        "    return (1000 * mw * panels)\n",
        "\n",
        "def wind_energy_cal(v3, ρ = 1.225, A=452.4):\n",
        "    v3 = v3**3\n",
        "    power_kw = (0.5 * ρ * A * v3)/1000\n",
        "    return power_kw"
      ]
    },
    {
      "cell_type": "markdown",
      "metadata": {
        "id": "Vh6Z18R1VKyC"
      },
      "source": [
        "Model forecast the next 24 hours of data and subsequently calculate the total energy generated within that period. This involves predicting the energy output for each hour over the next day and then summing up these individual predictions to obtain the total energy generated. By forecasting the energy generation for each hour and aggregating these predictions, we can estimate the overall energy output over the specified timeframe."
      ]
    },
    {
      "cell_type": "code",
      "execution_count": 15,
      "metadata": {
        "colab": {
          "base_uri": "https://localhost:8080/",
          "height": 1000
        },
        "id": "nYb7UZxuJRIw",
        "outputId": "f027b778-c1cb-4eba-ffc2-e9bc5c1a9433"
      },
      "outputs": [
        {
          "name": "stdout",
          "output_type": "stream",
          "text": [
            "1/1 [==============================] - 0s 53ms/step\n",
            "Solar energy(kWh) prediction for next 24 hour 5900.064016342163\n",
            "Wind energy(kWh) prediction for next 24 hour 41099.13296127319\n",
            "Total energy(kWh) prediction for next 24 hour 46999.19697761536\n"
          ]
        },
        {
          "data": {
            "image/png": "[encoded data removed]",
            "text/plain": [
              "<Figure size 1200x400 with 2 Axes>"
            ]
          },
          "metadata": {},
          "output_type": "display_data"
        },
        {
          "data": {
            "image/png": "[encoded data removed]",
            "text/plain": [
              "<Figure size 640x480 with 1 Axes>"
            ]
          },
          "metadata": {},
          "output_type": "display_data"
        }
      ],
      "source": [
        "_pred = []\n",
        "test_size = len(test_dataset)\n",
        "\n",
        "\n",
        "fig, ax = plt.subplots(1,2,figsize=(12,4))\n",
        "for i,(x, y) in enumerate(test_dataset):\n",
        "  # print('---',i)\n",
        "\n",
        "  if i==test_size-2: # take the last batch\n",
        "    predict = model_lstm3.predict(x)\n",
        "\n",
        "df = pd.DataFrame(predict)\n",
        "# print(df)\n",
        "\n",
        "# Convert wind speed to wind energy and solar energy\n",
        "solarenergy_kWh = mw_to_kw(df[0])\n",
        "windenergy_kWh = wind_energy_cal(df[1])\n",
        "\n",
        "# Total energy generate next 24 hours\n",
        "print('Solar energy(kWh) prediction for next 24 hour',sum(solarenergy_kWh))\n",
        "tot_solarenergy_kWh = sum(solarenergy_kWh)\n",
        "print('Wind energy(kWh) prediction for next 24 hour',sum(windenergy_kWh))\n",
        "tot_windenergy_kWh = sum(windenergy_kWh)\n",
        "print('Total energy(kWh) prediction for next 24 hour',sum(windenergy_kWh)+sum(solarenergy_kWh))\n",
        "tot_energy = sum(windenergy_kWh)+sum(solarenergy_kWh)\n",
        "\n",
        "# plot solar and wind energy(KWh) and total of them\n",
        "df_sum = pd.DataFrame({\n",
        "    \"name\" : [\"solarenergy_kWh\",\"windenergy_kWh\"],\n",
        "    \"sum\": [sum(solarenergy_kWh),sum(windenergy_kWh)]\n",
        "})\n",
        "\n",
        "ax[0].set_title('solarenergy_kWh')\n",
        "ax[0].plot(solarenergy_kWh)\n",
        "ax[1].set_title('windenergy_kWh')\n",
        "ax[1].plot(windenergy_kWh)\n",
        "plt.show()\n",
        "\n",
        "df_sum.plot(x=\"name\", y=\"sum\", kind=\"bar\",title='Total Energy prediction for next 24 hour ')\n",
        "plt.show()\n"
      ]
    },
    {
      "cell_type": "markdown",
      "metadata": {
        "id": "hGR9CMKnWJyR"
      },
      "source": [
        "## Recommandation\n",
        "\n",
        "calculate and display the surplus energy for both wind and solar sources, along with the surplus of total energy."
      ]
    },
    {
      "cell_type": "code",
      "execution_count": 16,
      "metadata": {
        "colab": {
          "base_uri": "https://localhost:8080/"
        },
        "id": "CEwezFTkVPQV",
        "outputId": "68e600cc-51dc-4515-9254-2b2af1f08cf1"
      },
      "outputs": [
        {
          "data": {
            "text/plain": [
              "16935.0"
            ]
          },
          "execution_count": 16,
          "metadata": {},
          "output_type": "execute_result"
        }
      ],
      "source": [
        "# total energy used per day by Brighton -b5 house holders\n",
        "# number of house holders 1500\n",
        "tot_consum = 1500 * 11.29\n",
        "tot_consum"
      ]
    },
    {
      "cell_type": "markdown",
      "metadata": {
        "id": "EAM4s6OGXR_p"
      },
      "source": [
        "providing informative messages regarding the available surplus energy options."
      ]
    },
    {
      "cell_type": "code",
      "execution_count": 29,
      "metadata": {
        "colab": {
          "base_uri": "https://localhost:8080/"
        },
        "id": "V7lrrVg4VPVF",
        "outputId": "0e58fce3-cd42-453d-c527-4189419b0b5f"
      },
      "outputs": [
        {
          "name": "stdout",
          "output_type": "stream",
          "text": [
            "Recommended to opt for wind energy, The surplus of wind energy amounts to 24164.133(KWh), \n",
            "while the surplus of total energy stands at 30064.197(KWh)\n"
          ]
        }
      ],
      "source": [
        "if tot_consum < tot_energy:\n",
        "  if tot_consum < tot_solarenergy_kWh :\n",
        "    print(f'Recommended to opt for solar energy, The surplus of solar energy amounts to {round((tot_solarenergy_kWh- tot_consum),3) }(KWh), \\nwhile the surplus of total energy stands at {round((tot_energy- tot_consum),3) }(KWh)')\n",
        "\n",
        "  elif tot_consum < tot_windenergy_kWh:\n",
        "    print(f'Recommended to opt for wind energy, The surplus of wind energy amounts to { round((tot_windenergy_kWh- tot_consum),3) }(KWh), \\nwhile the surplus of total energy stands at {round((tot_energy- tot_consum),3) }(KWh)')\n",
        "  else:\n",
        "    print(f'Surplus of total energy is { round((tot_energy-tot_consum),3)}')\n"
      ]
    }
  ],
  "metadata": {
    "accelerator": "GPU",
    "colab": {
      "gpuType": "T4",
      "provenance": []
    },
    "kernelspec": {
      "display_name": "Python 3",
      "name": "python3"
    },
    "language_info": {
      "codemirror_mode": {
        "name": "ipython",
        "version": 3
      },
      "file_extension": ".py",
      "mimetype": "text/x-python",
      "name": "python",
      "nbconvert_exporter": "python",
      "pygments_lexer": "ipython3",
      "version": "3.11.0"
    }
  },
  "nbformat": 4,
  "nbformat_minor": 0
}
